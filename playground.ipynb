{
 "cells": [
  {
   "cell_type": "code",
   "execution_count": 1,
   "metadata": {},
   "outputs": [],
   "source": [
    "import numpy as np\n",
    "import matplotlib.pyplot as plt\n",
    "plt.style.use('ggplot')\n",
    "import torch\n",
    "import os \n",
    "from models.utils import make_mp4_from_imgs, show_mp4, load_model, save_image, normal_samples\n",
    "from models.utils import plot_losses_and_save_plot, make_gif_from_imgs, show_gif\n",
    "%matplotlib qt"
   ]
  },
  {
   "cell_type": "code",
   "execution_count": null,
   "metadata": {},
   "outputs": [],
   "source": [
    "if not os.path.exists('best_images'):\n",
    "    os.mkdir('best_images')\n",
    "else:\n",
    "    for f in os.listdir('best_images'):\n",
    "        os.remove(os.path.join('best_images', f))\n",
    "    os.rmdir('best_images')\n",
    "    os.mkdir('best_images')"
   ]
  },
  {
   "cell_type": "code",
   "execution_count": 3,
   "metadata": {},
   "outputs": [],
   "source": [
    "import re\n",
    "\n",
    "\n",
    "normal_sample = normal_samples.sample(torch.Size([25])).to(torch.device('cuda'))\n",
    "i=0\n",
    "filenames = sorted(os.listdir('saved_models'), key=lambda x: int(''.join(re.findall(r'\\d+', x))))\n"
   ]
  },
  {
   "cell_type": "code",
   "execution_count": null,
   "metadata": {},
   "outputs": [],
   "source": [
    "np.save('filenames_sorted.npy', filenames)\n",
    "for model_file in filenames:\n",
    "    model = load_model(os.path.join('saved_models', model_file))\n",
    "    model.eval()\n",
    "    model=model.to(torch.device('cuda'))\n",
    "    output = model(normal_sample)\n",
    "    save_image(((output.cpu().detach() + 1) / 2).unsqueeze(1), 'best_images' +\n",
    "                       \"/%5d.png\" % i, nrow=5, normalize=False)\n",
    "    i+=1\n",
    "\n",
    " "
   ]
  },
  {
   "cell_type": "code",
   "execution_count": null,
   "metadata": {},
   "outputs": [],
   "source": [
    "make_mp4_from_imgs('best_images', 'best_images.mp4', n=1)\n",
    "show_mp4('best_images.mp4')"
   ]
  },
  {
   "cell_type": "code",
   "execution_count": null,
   "metadata": {},
   "outputs": [],
   "source": [
    "#make_gif_from_imgs(\"images\", 50, 0, 'training_images.gif')"
   ]
  },
  {
   "cell_type": "code",
   "execution_count": null,
   "metadata": {},
   "outputs": [],
   "source": [
    "#show_gif('training_images.gif')"
   ]
  },
  {
   "cell_type": "code",
   "execution_count": 4,
   "metadata": {},
   "outputs": [],
   "source": [
    "device = torch.device(\"cuda\" if torch.cuda.is_available() else \"cpu\")\n",
    "model = load_model(os.path.join('saved_models', filenames[5*60+33]))\n",
    "model.eval()\n",
    "model = model.to(device)"
   ]
  },
  {
   "cell_type": "code",
   "execution_count": 14,
   "metadata": {},
   "outputs": [
    {
     "data": {
      "text/plain": [
       "'best_model_epoch_333.th'"
      ]
     },
     "execution_count": 14,
     "metadata": {},
     "output_type": "execute_result"
    }
   ],
   "source": [
    "import shutil\n",
    "from models.utils import save_model\n",
    "\n",
    "# Move a file from one location to another\n",
    "file = os.path.join('saved_models', filenames[5*60+33])\n",
    "new_file = 'best_model_.th'\n",
    "shutil.copyfile(file, new_file)\n"
   ]
  },
  {
   "cell_type": "code",
   "execution_count": 5,
   "metadata": {},
   "outputs": [],
   "source": [
    "if not os.path.exists('eval_images'):\n",
    "    os.mkdir('eval_images')\n",
    "else:\n",
    "    for f in os.listdir('eval_images'):\n",
    "        os.remove(os.path.join('eval_images', f))\n",
    "    os.rmdir('eval_images')\n",
    "    os.mkdir('eval_images')"
   ]
  },
  {
   "cell_type": "code",
   "execution_count": 10,
   "metadata": {},
   "outputs": [],
   "source": [
    "\n",
    "for i in range(300):\n",
    "    z = normal_samples.sample(torch.Size([25])) * 0.8\n",
    "    z = z.to(device)\n",
    "    imgs = model(z).cpu().detach() * 0.5 + 0.5\n",
    "    if len(imgs.shape) == 3:\n",
    "        imgs = imgs.unsqueeze(1)\n",
    "    \n",
    "    save_image(imgs, 'eval_images' +\n",
    "                       \"/%5d.png\" % i, nrow=5, normalize=False)\n"
   ]
  },
  {
   "cell_type": "code",
   "execution_count": 11,
   "metadata": {},
   "outputs": [],
   "source": [
    "make_gif_from_imgs('eval_images', 650, 0, 'eval_images.gif')\n",
    "show_gif('eval_images.gif')"
   ]
  },
  {
   "cell_type": "code",
   "execution_count": 36,
   "metadata": {},
   "outputs": [],
   "source": [
    "d_losses, g_losses = np.load('d_losses.npy'), np.load('g_losses.npy')\n",
    "fig, ax = plt.subplots(figsize=(12, 8))\n",
    "ax.plot(g_losses, label='Generator Loss', color='orange')\n",
    "ax.plot(d_losses, label='Discriminator Loss', color='darkgreen')\n",
    "ax.set_xlabel('Epoch')\n",
    "ax.set_ylabel('Loss')\n",
    "ax.set_title('GAN Loss')\n",
    "ax.legend()\n",
    "plt.tight_layout()\n",
    "plt.savefig('losses.png')\n",
    "plt.show()\n"
   ]
  },
  {
   "cell_type": "code",
   "execution_count": null,
   "metadata": {},
   "outputs": [],
   "source": []
  }
 ],
 "metadata": {
  "kernelspec": {
   "display_name": "dl_hw5",
   "language": "python",
   "name": "python3"
  },
  "language_info": {
   "codemirror_mode": {
    "name": "ipython",
    "version": 3
   },
   "file_extension": ".py",
   "mimetype": "text/x-python",
   "name": "python",
   "nbconvert_exporter": "python",
   "pygments_lexer": "ipython3",
   "version": "3.10.10"
  },
  "orig_nbformat": 4
 },
 "nbformat": 4,
 "nbformat_minor": 2
}
