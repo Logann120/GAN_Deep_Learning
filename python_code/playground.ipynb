{
 "cells": [
  {
   "cell_type": "code",
   "execution_count": 1,
   "metadata": {},
   "outputs": [],
   "source": [
    "fp=\"C:/Users/ltnoo/Documents/GitHub/GAN_Deep_Learning/Hazel_Train\""
   ]
  },
  {
   "cell_type": "code",
   "execution_count": 7,
   "metadata": {},
   "outputs": [],
   "source": [
    "from PIL import Image\n",
    "import pillow_heif\n",
    "import os\n",
    "\n",
    "source_dir = \"C:/Users/ltnoo/Documents/GitHub/GAN_Deep_Learning/Hazel_Train\"\n",
    "output_dir = \"C:/Users/ltnoo/Documents/GitHub/GAN_Deep_Learning/Hazel_Train\"\n",
    "\n",
    "for filename in os.listdir(source_dir):\n",
    "    if filename.endswith(('.HEIC', '.heic')):\n",
    "        heif_file = pillow_heif.read_heif(os.path.join(source_dir, filename))\n",
    "        image = Image.frombytes(heif_file.mode, heif_file.size, heif_file.data.tobytes(), \"raw\")\n",
    "        image.save(os.path.join(output_dir, os.path.splitext(filename)[0] + '.jpg'), format=\"JPEG\")\n",
    "        # Delete HEIC file\n",
    "        os.remove(os.path.join(source_dir, filename))\n",
    "    # Change .jpeg to .jpg\n",
    "    elif filename.endswith(('.jpeg', '.JPEG')):\n",
    "        os.rename(os.path.join(source_dir, filename), os.path.join(source_dir, os.path.splitext(filename)[0] + '.jpg'))\n"
   ]
  },
  {
   "cell_type": "code",
   "execution_count": null,
   "metadata": {},
   "outputs": [],
   "source": []
  },
  {
   "cell_type": "code",
   "execution_count": null,
   "metadata": {},
   "outputs": [],
   "source": []
  }
 ],
 "metadata": {
  "kernelspec": {
   "display_name": "dl_hw5",
   "language": "python",
   "name": "python3"
  },
  "language_info": {
   "codemirror_mode": {
    "name": "ipython",
    "version": 3
   },
   "file_extension": ".py",
   "mimetype": "text/x-python",
   "name": "python",
   "nbconvert_exporter": "python",
   "pygments_lexer": "ipython3",
   "version": "3.10.10"
  },
  "orig_nbformat": 4
 },
 "nbformat": 4,
 "nbformat_minor": 2
}
